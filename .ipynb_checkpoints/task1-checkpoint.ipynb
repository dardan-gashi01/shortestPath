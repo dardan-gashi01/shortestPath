{
 "cells": [
  {
   "cell_type": "code",
   "execution_count": 12,
   "id": "058bc768",
   "metadata": {},
   "outputs": [
    {
     "ename": "IndentationError",
     "evalue": "expected an indented block (<ipython-input-12-019324ac3da8>, line 37)",
     "output_type": "error",
     "traceback": [
      "\u001b[0;36m  File \u001b[0;32m\"<ipython-input-12-019324ac3da8>\"\u001b[0;36m, line \u001b[0;32m37\u001b[0m\n\u001b[0;31m    def mode2():\u001b[0m\n\u001b[0m    ^\u001b[0m\n\u001b[0;31mIndentationError\u001b[0m\u001b[0;31m:\u001b[0m expected an indented block\n"
     ]
    }
   ],
   "source": [
    "import numpy as np\n",
    "import matplotlib.pyplot as plt\n",
    "\n",
    "minimum = 0\n",
    "size = 3\n",
    "count = 0\n",
    "#generating random numbers into the grid from 0-9 and integers\n",
    "grid = np.random.randint(0, 9, size=(size, size))\n",
    "#setting values for the top left(start) and bottom right(finish) of the grid\n",
    "grid[0,0] = np.random.randint(0,9)\n",
    "grid[size-1,size-1] = np.random.randint(0,9)\n",
    "    \n",
    "#reshaping the grid so it looks nicer in the center and enlarged rather than being very small \n",
    "#in the bottom left of the screen so for this I had to use subplots \n",
    "fig, ax = plt.subplots(figsize=(8,8))\n",
    "ax.matshow(grid, alpha = 0, cmap = None)\n",
    "for i in range(size):\n",
    "    for j in range(size):\n",
    "        block = grid[j,i]\n",
    "        ax.text(i, j, str(block), va = 'center', ha = 'center')\n",
    "            \n",
    "#this is created to calculated the distance travelled in total\n",
    "distmap = np.ones((size,size),dtype = int)\n",
    "#setting the top right value to 0 because we start at top left so dont want to have a value there to mess up\n",
    "#the shortest path algorithm\n",
    "distmap[0,0] = 0\n",
    "#print(distmap)\n",
    "#creating an array to know if the square has been visited or not \n",
    "ifVisited = np.zeros((size,size), dtype = bool)\n",
    "#print(ifVisited)\n",
    "\n",
    "x,y,count = 0,0,0\n",
    "    \n",
    "    \n",
    "#def mode1():\n",
    "    #print('game1')\n",
    "#def mode2():\n",
    "#    print('game2')\n",
    "\n",
    "#def whichMode():        \n",
    "#    game = input('which mode do you want? mode 1 [1] mode 2 [2]\\n')\n",
    "\n",
    " #   if(game == 1):\n",
    " #       mode1()\n",
    " #   elif(game == 2):\n",
    " #       mode2()\n",
    "        \n",
    "#whichMode()\n",
    "        \n",
    "    \n",
    "    \n",
    "        \n",
    "    \n"
   ]
  },
  {
   "cell_type": "code",
   "execution_count": null,
   "id": "c4748d6f",
   "metadata": {},
   "outputs": [],
   "source": []
  },
  {
   "cell_type": "code",
   "execution_count": null,
   "id": "0de2b52f",
   "metadata": {},
   "outputs": [],
   "source": []
  }
 ],
 "metadata": {
  "kernelspec": {
   "display_name": "Python 3",
   "language": "python",
   "name": "python3"
  },
  "language_info": {
   "codemirror_mode": {
    "name": "ipython",
    "version": 3
   },
   "file_extension": ".py",
   "mimetype": "text/x-python",
   "name": "python",
   "nbconvert_exporter": "python",
   "pygments_lexer": "ipython3",
   "version": "3.8.8"
  }
 },
 "nbformat": 4,
 "nbformat_minor": 5
}
