{
 "cells": [
  {
   "cell_type": "code",
   "execution_count": 4,
   "id": "058bc768",
   "metadata": {
    "scrolled": true
   },
   "outputs": [
    {
     "name": "stdout",
     "output_type": "stream",
     "text": [
      "7\n",
      "2\n",
      "elif\n",
      "8\n",
      "elif\n",
      "2\n",
      "first if\n",
      "8\n",
      "elif\n",
      "8\n"
     ]
    },
    {
     "data": {
      "image/png": "[encoded data removed]",
      "text/plain": [
       "<Figure size 576x576 with 1 Axes>"
      ]
     },
     "metadata": {
      "needs_background": "light"
     },
     "output_type": "display_data"
    }
   ],
   "source": [
    "import numpy as np\n",
    "import matplotlib.pyplot as plt\n",
    "\n",
    "minimum = 0\n",
    "size = 3\n",
    "count = 0\n",
    "#generating random numbers into the grid from 0-9 and integers\n",
    "grid = np.random.randint(0, 9, size=(size, size))\n",
    "#setting values for the top left(start) and bottom right(finish) of the grid\n",
    "grid[0,0] = np.random.randint(0,9)\n",
    "grid[size-1,size-1] = np.random.randint(0,9)\n",
    "    \n",
    "#reshaping the grid so it looks nicer in the center and enlarged rather than being very small \n",
    "#in the bottom left of the screen so for this I had to use subplots \n",
    "fig, ax = plt.subplots(figsize=(8,8))\n",
    "ax.matshow(grid, alpha = 0, cmap = None)\n",
    "for i in range(size):\n",
    "    for j in range(size):\n",
    "        block = grid[j,i]\n",
    "        ax.text(i, j, str(block), va = 'center', ha = 'center')\n",
    "            \n",
    "#this is created to calculated the distance travelled in total\n",
    "distmap = np.ones((size,size),dtype = int)\n",
    "#setting the top right value to 0 because we start at top left so dont want to have a value there to mess up\n",
    "#the shortest path algorithm\n",
    "distmap[0,0] = 0\n",
    "#print(distmap)\n",
    "#creating an array to know if the square has been visited or not \n",
    "#ifVisited = np.zeros((size,size), dtype = bool)\n",
    "#print(ifVisited)\n",
    "\n",
    "finished = False\n",
    "x,y,count = 0,0,0\n",
    "\n",
    "\n",
    "point = grid[x,y]\n",
    "\n",
    "def moveRight():\n",
    "    global y\n",
    "    point = grid[x,y+1]\n",
    "    y+=1\n",
    "    \n",
    "\n",
    "def moveLeft():\n",
    "    global y\n",
    "    point = grid[x,y-1]\n",
    "    y-=1\n",
    "   \n",
    "    \n",
    "def moveUp():\n",
    "    global y\n",
    "    point = grid[x-1,y]\n",
    "    y-=1\n",
    "    \n",
    "\n",
    "def moveDown():\n",
    "    global y\n",
    "    point = grid[x+1,y]\n",
    "    y-=1\n",
    "    \n",
    "\n",
    "print(grid[x,y])\n",
    "\n",
    "while (count < 4):\n",
    "    if(grid[x,y+1] < grid[x+1,y]):\n",
    "        moveRight()\n",
    "        print(grid[x,y])\n",
    "        print('first if')\n",
    "        count+=1\n",
    "    elif(grid[x,y+1] > grid[x+1,y]):\n",
    "        moveDown()\n",
    "        print(grid[x,y])\n",
    "        print('elif')\n",
    "        count+=1\n",
    "    \n",
    "print(grid[x,y])\n",
    "        \n",
    "          \n",
    "    \n",
    "    \n",
    "\n",
    "    \n",
    "    \n",
    "        \n",
    "    \n"
   ]
  },
  {
   "cell_type": "code",
   "execution_count": null,
   "id": "9bf6f429",
   "metadata": {},
   "outputs": [],
   "source": []
  },
  {
   "cell_type": "code",
   "execution_count": null,
   "id": "63adba27",
   "metadata": {},
   "outputs": [],
   "source": []
  }
 ],
 "metadata": {
  "kernelspec": {
   "display_name": "Python 3",
   "language": "python",
   "name": "python3"
  },
  "language_info": {
   "codemirror_mode": {
    "name": "ipython",
    "version": 3
   },
   "file_extension": ".py",
   "mimetype": "text/x-python",
   "name": "python",
   "nbconvert_exporter": "python",
   "pygments_lexer": "ipython3",
   "version": "3.8.8"
  }
 },
 "nbformat": 4,
 "nbformat_minor": 5
}
