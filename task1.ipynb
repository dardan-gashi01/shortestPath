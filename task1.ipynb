{
 "cells": [
  {
   "cell_type": "code",
   "execution_count": 2,
   "id": "058bc768",
   "metadata": {},
   "outputs": [
    {
     "data": {
      "image/png": "[encoded data removed]",
      "text/plain": [
       "<Figure size 576x576 with 1 Axes>"
      ]
     },
     "metadata": {
      "needs_background": "light"
     },
     "output_type": "display_data"
    }
   ],
   "source": [
    "import numpy as np\n",
    "import matplotlib.pyplot as plt\n",
    "\n",
    "class grid:\n",
    "    minimum = 0\n",
    "    size = 3\n",
    "    count = 0\n",
    "    #generating random bumbers into the grid \n",
    "    grid = np.random.randint(0, 9, size=(size, size))\n",
    "    #setting values for the top left(start) and bottom right(finish) of the grid\n",
    "    grid[0,0] = np.random.randint(0,9)\n",
    "    grid[size-1,size-1] = np.random.randint(0,9)\n",
    "    \n",
    "    #reshaping the grid so it looks nicer in the center and enlarged rather than being very small \n",
    "    #in the bottom left of the screen so for this I had to use subplots \n",
    "    fig, ax = plt.subplots(figsize=(8,8))\n",
    "    ax.matshow(grid, alpha = 0, cmap = None)\n",
    "    for i in range(size):\n",
    "        for j in range(size):\n",
    "            block = grid[j,i]\n",
    "            ax.text(i, j, str(block), va = 'center', ha = 'center')\n",
    "            \n",
    "    distmap = np.ones((size,size),dtype = int)\n",
    "    distmap[0,0] = 0\n",
    "    #print(distmap)\n",
    "    #creating an array to know if the square has been visited or not \n",
    "    ifVisited = np.zeros((size,size), dtype = bool)\n",
    "    #print(ifVisited)\n",
    "    \n",
    "    \n",
    "        \n",
    "    \n"
   ]
  },
  {
   "cell_type": "code",
   "execution_count": null,
   "id": "c4748d6f",
   "metadata": {},
   "outputs": [],
   "source": []
  }
 ],
 "metadata": {
  "kernelspec": {
   "display_name": "Python 3",
   "language": "python",
   "name": "python3"
  },
  "language_info": {
   "codemirror_mode": {
    "name": "ipython",
    "version": 3
   },
   "file_extension": ".py",
   "mimetype": "text/x-python",
   "name": "python",
   "nbconvert_exporter": "python",
   "pygments_lexer": "ipython3",
   "version": "3.8.8"
  }
 },
 "nbformat": 4,
 "nbformat_minor": 5
}
